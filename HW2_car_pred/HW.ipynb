{
 "cells": [
  {
   "cell_type": "code",
   "execution_count": 1,
   "id": "afda683e",
   "metadata": {},
   "outputs": [],
   "source": [
    "import pandas as pd\n",
    "import seaborn as sns\n",
    "import numpy as np"
   ]
  },
  {
   "cell_type": "code",
   "execution_count": 2,
   "id": "eb62daa7",
   "metadata": {},
   "outputs": [],
   "source": [
    "import urllib.request\n",
    "url = 'https://raw.githubusercontent.com/alexeygrigorev/datasets/master/housing.csv'\n",
    "filename = 'housing_hw_data.csv'\n",
    "urllib.request.urlretrieve(url, filename)\n",
    "data = pd.read_csv(filename)"
   ]
  },
  {
   "cell_type": "code",
   "execution_count": 3,
   "id": "6410aea2",
   "metadata": {},
   "outputs": [
    {
     "data": {
      "text/html": [
       "<div>\n",
       "<style scoped>\n",
       "    .dataframe tbody tr th:only-of-type {\n",
       "        vertical-align: middle;\n",
       "    }\n",
       "\n",
       "    .dataframe tbody tr th {\n",
       "        vertical-align: top;\n",
       "    }\n",
       "\n",
       "    .dataframe thead th {\n",
       "        text-align: right;\n",
       "    }\n",
       "</style>\n",
       "<table border=\"1\" class=\"dataframe\">\n",
       "  <thead>\n",
       "    <tr style=\"text-align: right;\">\n",
       "      <th></th>\n",
       "      <th>longitude</th>\n",
       "      <th>latitude</th>\n",
       "      <th>housing_median_age</th>\n",
       "      <th>total_rooms</th>\n",
       "      <th>total_bedrooms</th>\n",
       "      <th>population</th>\n",
       "      <th>households</th>\n",
       "      <th>median_income</th>\n",
       "      <th>median_house_value</th>\n",
       "      <th>ocean_proximity</th>\n",
       "    </tr>\n",
       "  </thead>\n",
       "  <tbody>\n",
       "    <tr>\n",
       "      <th>0</th>\n",
       "      <td>-122.23</td>\n",
       "      <td>37.88</td>\n",
       "      <td>41.0</td>\n",
       "      <td>880.0</td>\n",
       "      <td>129.0</td>\n",
       "      <td>322.0</td>\n",
       "      <td>126.0</td>\n",
       "      <td>8.3252</td>\n",
       "      <td>452600.0</td>\n",
       "      <td>NEAR BAY</td>\n",
       "    </tr>\n",
       "    <tr>\n",
       "      <th>1</th>\n",
       "      <td>-122.22</td>\n",
       "      <td>37.86</td>\n",
       "      <td>21.0</td>\n",
       "      <td>7099.0</td>\n",
       "      <td>1106.0</td>\n",
       "      <td>2401.0</td>\n",
       "      <td>1138.0</td>\n",
       "      <td>8.3014</td>\n",
       "      <td>358500.0</td>\n",
       "      <td>NEAR BAY</td>\n",
       "    </tr>\n",
       "    <tr>\n",
       "      <th>2</th>\n",
       "      <td>-122.24</td>\n",
       "      <td>37.85</td>\n",
       "      <td>52.0</td>\n",
       "      <td>1467.0</td>\n",
       "      <td>190.0</td>\n",
       "      <td>496.0</td>\n",
       "      <td>177.0</td>\n",
       "      <td>7.2574</td>\n",
       "      <td>352100.0</td>\n",
       "      <td>NEAR BAY</td>\n",
       "    </tr>\n",
       "    <tr>\n",
       "      <th>3</th>\n",
       "      <td>-122.25</td>\n",
       "      <td>37.85</td>\n",
       "      <td>52.0</td>\n",
       "      <td>1274.0</td>\n",
       "      <td>235.0</td>\n",
       "      <td>558.0</td>\n",
       "      <td>219.0</td>\n",
       "      <td>5.6431</td>\n",
       "      <td>341300.0</td>\n",
       "      <td>NEAR BAY</td>\n",
       "    </tr>\n",
       "    <tr>\n",
       "      <th>4</th>\n",
       "      <td>-122.25</td>\n",
       "      <td>37.85</td>\n",
       "      <td>52.0</td>\n",
       "      <td>1627.0</td>\n",
       "      <td>280.0</td>\n",
       "      <td>565.0</td>\n",
       "      <td>259.0</td>\n",
       "      <td>3.8462</td>\n",
       "      <td>342200.0</td>\n",
       "      <td>NEAR BAY</td>\n",
       "    </tr>\n",
       "  </tbody>\n",
       "</table>\n",
       "</div>"
      ],
      "text/plain": [
       "   longitude  latitude  housing_median_age  total_rooms  total_bedrooms  \\\n",
       "0    -122.23     37.88                41.0        880.0           129.0   \n",
       "1    -122.22     37.86                21.0       7099.0          1106.0   \n",
       "2    -122.24     37.85                52.0       1467.0           190.0   \n",
       "3    -122.25     37.85                52.0       1274.0           235.0   \n",
       "4    -122.25     37.85                52.0       1627.0           280.0   \n",
       "\n",
       "   population  households  median_income  median_house_value ocean_proximity  \n",
       "0       322.0       126.0         8.3252            452600.0        NEAR BAY  \n",
       "1      2401.0      1138.0         8.3014            358500.0        NEAR BAY  \n",
       "2       496.0       177.0         7.2574            352100.0        NEAR BAY  \n",
       "3       558.0       219.0         5.6431            341300.0        NEAR BAY  \n",
       "4       565.0       259.0         3.8462            342200.0        NEAR BAY  "
      ]
     },
     "execution_count": 3,
     "metadata": {},
     "output_type": "execute_result"
    }
   ],
   "source": [
    "data.head()"
   ]
  },
  {
   "cell_type": "code",
   "execution_count": 4,
   "id": "e84c31f6",
   "metadata": {},
   "outputs": [
    {
     "data": {
      "text/plain": [
       "<AxesSubplot:xlabel='median_house_value', ylabel='Count'>"
      ]
     },
     "execution_count": 4,
     "metadata": {},
     "output_type": "execute_result"
    },
    {
     "data": {
      "image/png": "[encoded data removed]",
      "text/plain": [
       "<Figure size 432x288 with 1 Axes>"
      ]
     },
     "metadata": {
      "needs_background": "light"
     },
     "output_type": "display_data"
    }
   ],
   "source": [
    "sns.histplot(data.median_house_value, bins= 50)"
   ]
  },
  {
   "cell_type": "markdown",
   "id": "f84e097a",
   "metadata": {},
   "source": [
    "It does not looks like long tail distribution"
   ]
  },
  {
   "cell_type": "code",
   "execution_count": 5,
   "id": "34b94fdb",
   "metadata": {
    "scrolled": true
   },
   "outputs": [],
   "source": [
    "hw_features = data.dtypes[data.dtypes != 'O'].index.tolist()\n",
    "hw_data = data[hw_features]"
   ]
  },
  {
   "cell_type": "markdown",
   "id": "2f4e0822",
   "metadata": {},
   "source": [
    "### Q1 :Find a feature with missing values. How many missing values does it have?"
   ]
  },
  {
   "cell_type": "code",
   "execution_count": 6,
   "id": "317361a5",
   "metadata": {
    "scrolled": true
   },
   "outputs": [
    {
     "data": {
      "text/plain": [
       "longitude               0\n",
       "latitude                0\n",
       "housing_median_age      0\n",
       "total_rooms             0\n",
       "total_bedrooms        207\n",
       "population              0\n",
       "households              0\n",
       "median_income           0\n",
       "median_house_value      0\n",
       "dtype: int64"
      ]
     },
     "execution_count": 6,
     "metadata": {},
     "output_type": "execute_result"
    }
   ],
   "source": [
    "hw_data.isnull().sum()"
   ]
  },
  {
   "cell_type": "markdown",
   "id": "6acc7fe4",
   "metadata": {},
   "source": [
    "### Q2: What's the median (50% percentile) for variable 'population'?"
   ]
  },
  {
   "cell_type": "code",
   "execution_count": 7,
   "id": "36e711f7",
   "metadata": {},
   "outputs": [
    {
     "data": {
      "text/plain": [
       "1166.0"
      ]
     },
     "execution_count": 7,
     "metadata": {},
     "output_type": "execute_result"
    }
   ],
   "source": [
    "hw_data.population.median()"
   ]
  },
  {
   "cell_type": "markdown",
   "id": "a39eb77f",
   "metadata": {},
   "source": [
    "### Split the data"
   ]
  },
  {
   "cell_type": "code",
   "execution_count": 8,
   "id": "a784b7e5",
   "metadata": {},
   "outputs": [],
   "source": [
    "n =  len(data)\n",
    "\n",
    "n_val = int(n * 0.2)\n",
    "n_test = int(n * 0.2)\n",
    "n_train = n - n_val - n_test # because rouding cause lost in data"
   ]
  },
  {
   "cell_type": "code",
   "execution_count": 9,
   "id": "eeb40368",
   "metadata": {},
   "outputs": [
    {
     "data": {
      "text/plain": [
       "(20640, 20640)"
      ]
     },
     "execution_count": 9,
     "metadata": {},
     "output_type": "execute_result"
    }
   ],
   "source": [
    "n, n_val + n_test + n_train #should be same"
   ]
  },
  {
   "cell_type": "code",
   "execution_count": 10,
   "id": "e172e455",
   "metadata": {},
   "outputs": [],
   "source": [
    "idx = np.arange(n)\n",
    "np.random.seed(2)\n",
    "np.random.shuffle(idx)"
   ]
  },
  {
   "cell_type": "code",
   "execution_count": 11,
   "id": "1a185bce",
   "metadata": {},
   "outputs": [
    {
     "data": {
      "text/plain": [
       "12384"
      ]
     },
     "execution_count": 11,
     "metadata": {},
     "output_type": "execute_result"
    }
   ],
   "source": [
    "n_train"
   ]
  },
  {
   "cell_type": "code",
   "execution_count": 12,
   "id": "b68e3184",
   "metadata": {},
   "outputs": [],
   "source": [
    "data_train = data.iloc[idx[:n_train]]\n",
    "data_val = data.iloc[idx[n_train:n_train+n_val]]\n",
    "data_test = data.iloc[idx[n_train+n_val:]]\n",
    "\n",
    "data_train = data_train.reset_index(drop=True)\n",
    "data_val = data_val.reset_index(drop=True)\n",
    "data_test = data_test.reset_index(drop=True)"
   ]
  },
  {
   "cell_type": "code",
   "execution_count": 13,
   "id": "1b0b31ba",
   "metadata": {},
   "outputs": [],
   "source": [
    "y_train = np.log1p(data_train.median_house_value.values)\n",
    "y_val = np.log1p(data_val.median_house_value.values)\n",
    "y_test = np.log1p(data_test.median_house_value.values)"
   ]
  },
  {
   "cell_type": "code",
   "execution_count": 14,
   "id": "2f79c75c",
   "metadata": {},
   "outputs": [],
   "source": [
    "del data_train[\"median_house_value\"]\n",
    "del data_val[\"median_house_value\"]\n",
    "del data_test[\"median_house_value\"]"
   ]
  },
  {
   "cell_type": "markdown",
   "id": "b5fe5da4",
   "metadata": {},
   "source": [
    "### Q3"
   ]
  },
  {
   "cell_type": "markdown",
   "id": "c7ff2122",
   "metadata": {},
   "source": [
    "By filling with 0"
   ]
  },
  {
   "cell_type": "code",
   "execution_count": 15,
   "id": "1d35fb32",
   "metadata": {},
   "outputs": [],
   "source": [
    "def prepare_X(df, fill_val):\n",
    "    df = df.copy()\n",
    "    \n",
    "    hw_fea_without_output = [x for x in hw_features if x != \"median_house_value\"]\n",
    "    df_num = df[hw_fea_without_output]\n",
    "    df_num = df_num.fillna(fill_val)\n",
    "    X = df_num.values\n",
    "    return X"
   ]
  },
  {
   "cell_type": "code",
   "execution_count": 16,
   "id": "57ff2445",
   "metadata": {},
   "outputs": [],
   "source": [
    "def train_linear_regression(X, y):\n",
    "    ones = np.ones(X.shape[0])\n",
    "    X = np.column_stack([ones, X])\n",
    "    \n",
    "    XTX = X.T.dot(X)\n",
    "    XTX_inv = np.linalg.inv(XTX)\n",
    "    w_full = XTX_inv.dot(X.T).dot(y)\n",
    "    \n",
    "    return w_full[0], w_full[1:]"
   ]
  },
  {
   "cell_type": "code",
   "execution_count": 17,
   "id": "3273cc17",
   "metadata": {},
   "outputs": [],
   "source": [
    "def rmse(y, y_pred):\n",
    "    se = (y-y_pred) ** 2\n",
    "    mse = se.mean()\n",
    "    return np.sqrt(mse)"
   ]
  },
  {
   "cell_type": "code",
   "execution_count": 19,
   "id": "50105066",
   "metadata": {},
   "outputs": [
    {
     "data": {
      "text/plain": [
       "0.33"
      ]
     },
     "execution_count": 19,
     "metadata": {},
     "output_type": "execute_result"
    }
   ],
   "source": [
    "X_n_train = prepare_X(data_train, 0)\n",
    "w0_n, w_n = train_linear_regression(X_n_train, y_train)\n",
    "\n",
    "X_n_val = prepare_X(data_val, 0)\n",
    "y_n_pred = w0_n + X_n_val.dot(w_n)\n",
    "\n",
    "np.round(rmse(y_val, y_n_pred),2)"
   ]
  },
  {
   "cell_type": "markdown",
   "id": "3d67232e",
   "metadata": {},
   "source": [
    "By filling with mean"
   ]
  },
  {
   "cell_type": "code",
   "execution_count": 21,
   "id": "47aaf95d",
   "metadata": {},
   "outputs": [
    {
     "data": {
      "text/plain": [
       "0.33"
      ]
     },
     "execution_count": 21,
     "metadata": {},
     "output_type": "execute_result"
    }
   ],
   "source": [
    "mean = data_train.total_bedrooms.mean()\n",
    "\n",
    "X_mean_train = prepare_X(data_train, mean)\n",
    "w0_mean, w_mean = train_linear_regression(X_mean_train, y_train)\n",
    "\n",
    "X_mean_val = prepare_X(data_val, mean)\n",
    "y_mean_pred = w0_mean + X_mean_val.dot(w_mean)\n",
    "\n",
    "np.round(rmse(y_val, y_mean_pred),2)"
   ]
  },
  {
   "cell_type": "markdown",
   "id": "6e930777",
   "metadata": {},
   "source": [
    "### Question 4: Which r gives the best RMSE?"
   ]
  },
  {
   "cell_type": "code",
   "execution_count": 22,
   "id": "716e78fe",
   "metadata": {},
   "outputs": [],
   "source": [
    "def train_linear_regression_reg(X, y, r):\n",
    "    ones = np.ones(X.shape[0]) #we add an additional column of ones, since we merge w0 tu our weights vector \n",
    "    X = np.column_stack([ones, X])\n",
    "    \n",
    "    XTX = X.T.dot(X)\n",
    "    XTX = XTX + r * np.eye(XTX.shape[0])\n",
    "    \n",
    "    XTX_inv = np.linalg.inv(XTX)\n",
    "    w = XTX_inv.dot(X.T).dot(y)\n",
    "    \n",
    "    return w[0], w[1:]"
   ]
  },
  {
   "cell_type": "code",
   "execution_count": 24,
   "id": "1ea1dad3",
   "metadata": {
    "scrolled": true
   },
   "outputs": [
    {
     "name": "stdout",
     "output_type": "stream",
     "text": [
      "0.0 -11.806729360745713 0.33\n",
      "1e-06 -11.806713628182896 0.33\n",
      "0.0001 -11.805156321789905 0.33\n",
      "0.001 -11.791017805728968 0.33\n",
      "0.01 -11.65147278814863 0.33\n",
      "0.1 -10.418426512930274 0.33\n",
      "1 -5.060875818182057 0.34\n",
      "5 -1.5386307850109653 0.34\n",
      "10 -0.821670832698214 0.34\n"
     ]
    }
   ],
   "source": [
    "for r in [0.0, 0.000001, 0.0001, 0.001, 0.01, 0.1, 1, 5, 10]:\n",
    "\n",
    "    #Train part\n",
    "    w0, w = train_linear_regression_reg(X_n_train, y_train, r=r)\n",
    "    y_n_reg_val = w0 + X_n_val.dot(w)\n",
    "    \n",
    "    rmse_val = np.round(rmse(y_val, y_n_reg_val),2)\n",
    "    \n",
    "    print(r, w0, rmse_val)"
   ]
  },
  {
   "cell_type": "markdown",
   "id": "e5983aa4",
   "metadata": {},
   "source": [
    "### Question 5"
   ]
  },
  {
   "cell_type": "code",
   "execution_count": 26,
   "id": "e5d3dc0a",
   "metadata": {},
   "outputs": [
    {
     "name": "stdout",
     "output_type": "stream",
     "text": [
      "0 -0.821670832698214 0.34\n",
      "1 -0.821670832698214 0.34\n",
      "2 -0.821670832698214 0.33\n",
      "3 -0.821670832698214 0.34\n",
      "4 -0.821670832698214 0.34\n",
      "5 -0.821670832698214 0.34\n",
      "6 -0.821670832698214 0.35\n",
      "7 -0.821670832698214 0.34\n",
      "8 -0.821670832698214 0.35\n",
      "9 -0.821670832698214 0.34\n"
     ]
    }
   ],
   "source": [
    "rmse_list = []\n",
    "\n",
    "for r in [0, 1, 2, 3, 4, 5, 6, 7, 8, 9]:\n",
    "\n",
    "    idx = np.arange(n)\n",
    "    np.random.seed(r)\n",
    "    np.random.shuffle(idx)\n",
    "\n",
    "    data_shuffled = data.iloc[idx]\n",
    "    \n",
    "    data_train = data_shuffled.iloc[:n_train].copy()\n",
    "    data_val = data_shuffled.iloc[n_train:n_train+n_val].copy()\n",
    "    data_test = data_shuffled.iloc[n_train+n_val:].copy()\n",
    "\n",
    "    data_train = data_train.reset_index(drop=True)\n",
    "    data_val = data_val.reset_index(drop=True)\n",
    "    data_test = data_test.reset_index(drop=True)\n",
    "    \n",
    "    y_train = np.log1p(data_train.median_house_value.values)\n",
    "    y_val = np.log1p(data_val.median_house_value.values)\n",
    "    y_test = np.log1p(data_test.median_house_value.values)\n",
    "    \n",
    "    del data_train['median_house_value']\n",
    "    del data_val['median_house_value']\n",
    "    del data_test['median_house_value']\n",
    "    \n",
    "    X_n_train = prepare_X(data_train, 0)\n",
    "    w0_n, w_n = train_linear_regression(X_n_train, y_train)\n",
    "    \n",
    "    X_n_val = prepare_X(data_val, 0)\n",
    "    y_n_reg_val = w0_n + X_n_val.dot(w_n)\n",
    "    rmse_val = np.round(rmse(y_val, y_n_reg_val),2)\n",
    "    \n",
    "    rmse_list.append(rmse_val)\n",
    "    \n",
    "    print(r, w0, rmse_val)"
   ]
  },
  {
   "cell_type": "code",
   "execution_count": 27,
   "id": "4ca418eb",
   "metadata": {},
   "outputs": [
    {
     "data": {
      "text/plain": [
       "[0.34, 0.34, 0.33, 0.34, 0.34, 0.34, 0.35, 0.34, 0.35, 0.34]"
      ]
     },
     "execution_count": 27,
     "metadata": {},
     "output_type": "execute_result"
    }
   ],
   "source": [
    "rmse_list"
   ]
  },
  {
   "cell_type": "code",
   "execution_count": 28,
   "id": "136312e6",
   "metadata": {},
   "outputs": [
    {
     "data": {
      "text/plain": [
       "0.005"
      ]
     },
     "execution_count": 28,
     "metadata": {},
     "output_type": "execute_result"
    }
   ],
   "source": [
    "np.round(np.std(rmse_list),3)"
   ]
  },
  {
   "cell_type": "markdown",
   "id": "4c2c0907",
   "metadata": {},
   "source": [
    "### Question 6"
   ]
  },
  {
   "cell_type": "code",
   "execution_count": 29,
   "id": "82696def",
   "metadata": {},
   "outputs": [],
   "source": [
    "idx = np.arange(n)\n",
    "np.random.seed(r)\n",
    "np.random.shuffle(idx)\n",
    "\n",
    "data_shuffled = data.iloc[idx]\n",
    "\n",
    "data_train= data_shuffled.iloc[:n_train].copy()\n",
    "data_val = data_shuffled.iloc[n_train:n_train+n_val].copy()\n",
    "data_test = data_shuffled.iloc[n_train+n_val:].copy()\n",
    "\n",
    "frames = [data_train, data_val]\n",
    "\n",
    "data_train_val = pd.concat(frames)\n",
    "\n",
    "data_train_val = data_train_val.reset_index(drop=True)\n",
    "data_test =data_test.reset_index(drop=True)\n",
    "\n",
    "y_train_val = np.log1p(data_train_val.median_house_value.values)\n",
    "y_test = np.log1p(data_test.median_house_value.values)\n",
    "\n",
    "del data_train_val['median_house_value']\n",
    "del data_test['median_house_value']"
   ]
  },
  {
   "cell_type": "code",
   "execution_count": 31,
   "id": "665b1368",
   "metadata": {},
   "outputs": [
    {
     "data": {
      "text/plain": [
       "0.35"
      ]
     },
     "execution_count": 31,
     "metadata": {},
     "output_type": "execute_result"
    }
   ],
   "source": [
    "X_n_train_val = prepare_X(data_train_val, 0)\n",
    "w0_train_val, w_train_val = train_linear_regression_reg(X_n_train_val, y_train_val, r=0.001)\n",
    "\n",
    "X_n_test = prepare_X(data_test, 0)\n",
    "y_n_pred_test = w0_train_val + X_n_test.dot(w_train_val)\n",
    "\n",
    "np.round(rmse(y_test, y_n_pred_test),2)"
   ]
  }
 ],
 "metadata": {
  "kernelspec": {
   "display_name": "Python 3 (ipykernel)",
   "language": "python",
   "name": "python3"
  },
  "language_info": {
   "codemirror_mode": {
    "name": "ipython",
    "version": 3
   },
   "file_extension": ".py",
   "mimetype": "text/x-python",
   "name": "python",
   "nbconvert_exporter": "python",
   "pygments_lexer": "ipython3",
   "version": "3.8.5"
  }
 },
 "nbformat": 4,
 "nbformat_minor": 5
}
